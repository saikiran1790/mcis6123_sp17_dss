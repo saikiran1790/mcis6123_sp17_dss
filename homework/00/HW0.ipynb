{
 "cells": [
  {
   "cell_type": "markdown",
   "metadata": {},
   "source": [
    "# Decision Support Systems / Homework 999991201"
   ]
  },
  {
   "cell_type": "markdown",
   "metadata": {},
   "source": [
    "__This assignment is worth up to 5 POINTS to your grade total if you complete it on time.  Late assignments will lose 15%.__\n",
    "\n",
    "\n",
    "| Points <br/>Possible | Due <br/>Date | Time Commitment <br/>(estimated) |\n",
    "|:---------------:|:--------:|:---------------:|\n",
    "| 5 | Wednesday, Feb. 01 @ Midnight| 3 hours or less   |\n",
    "\n",
    "* **GRADING:** Grading will be aligned with the completeness of the objectives.\n",
    "\n",
    "* **INDEPENDENT WORK:** Copying, cheating, plagiarism  and academic dishonesty _are not tolerated_ by Univerisity or course policy.  Please see the syllabus for the full departmental and University statement on the academic code of honor."
   ]
  },
  {
   "cell_type": "markdown",
   "metadata": {},
   "source": [
    "## OBJECTIVES \n",
    "\n",
    "### Familiarize yourself with the Tableau platform.\n",
    "\n",
    "[Tableau](http://tableau.com) has for some time been a strong platform for analytics.  In this assignment you will be asked to create and account on tableau and find some projects on the platform that interest you.  I would highly recommend you use your `.edu` account so that you can actually get some of the student / educational benefits of the platform.  We will be coming back to Tableau from time to time in this course, so this account setup _is not optional_.\n",
    "\n",
    "### Familiarize yourself with Github.\n",
    "\n",
    "[Github](http://github.com) is the _de facto_ home of open source software on the web.  While there are other platforms that provide similar (and in some cases better) services, it is still *the place* for some of the largest open source software in the world.  You will be creating an account on Github for several reasons:\n",
    "\n",
    "1. we will be using Github to store, transmit and share homework and lecture notes,\n",
    "2. we may, though not completely confirmed, use Github for at least one assignment,\n",
    "3. at some point in your future, you will _very likely_ be using Github, if for private work for a company or public work on an open source project.\n",
    "\n",
    "_Just like Tableau, sign up with your .edu email,_ as there are [many benefits to doing so](https://education.github.com/)!"
   ]
  },
  {
   "cell_type": "markdown",
   "metadata": {},
   "source": [
    "## WHAT TO TURN IN\n",
    "\n",
    "You are being encouraged to turn the assignment in using the provided Jupyter Notebook.  To do so, clone [the course repository](https://git.io/vM0PE) and modify the `Homework0.ipynb` file in the `homework/00` directory.  If you do not know how to do this, please ask, or visit one of the many tutorials out there on the basics of using Github and cloning repositories.\n",
    "\n",
    "Turn in a copy of a `.ipynb` file, a PDF or Word Document to Blackboard with the answers to the questions labeled with the &#167; sign."
   ]
  },
  {
   "cell_type": "markdown",
   "metadata": {},
   "source": [
    "## TASKS\n",
    "\n",
    "\n",
    "- &#167; create a [Tableau account](https://tableau.com) and **place a screenshot of your account** in your final homework document.\n",
    "\n",
    "- &#167; create a [Github](https://github.com) and **place your github ID and a screenshot of your account** in your final homework document.\n",
    "\n",
    "- &#167; There is a lot to explore in Tableau. **Explore at least one Tableau report and summarize what you learned** from it.  You will need only **supply 3-5 sentences in your summary**, but make sure there is enough detail so that someone who is not familiar with the area can learn something interesting.\n",
    "\n",
    "- &#167; Github is an amazing place with millions of repositories.  **Find one of interest and explore it**.  Please **provide a 3-5 sentence summary of what you found** in that Github repository.  Also please provide the link to the repository.  This part of the assignment will be much easier if you pick an active project (e.g. D3.js or something even a repository for a language that is active).  While not a strict requirement, you are encouraged to find a repo having something to do with data."
   ]
  }
 ],
 "metadata": {
  "anaconda-cloud": {},
  "kernelspec": {
   "display_name": "Python [conda root]",
   "language": "python",
   "name": "conda-root-py"
  },
  "language_info": {
   "codemirror_mode": {
    "name": "ipython",
    "version": 3
   },
   "file_extension": ".py",
   "mimetype": "text/x-python",
   "name": "python",
   "nbconvert_exporter": "python",
   "pygments_lexer": "ipython3",
   "version": "3.5.2"
  }
 },
 "nbformat": 4,
 "nbformat_minor": 0
}
